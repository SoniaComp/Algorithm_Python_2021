{
 "cells": [
  {
   "cell_type": "code",
   "execution_count": 3,
   "metadata": {},
   "outputs": [],
   "source": [
    "def selection_sort(arr):\n",
    "    # 가장 작은 애를 앞에 세움\n",
    "    for i in range(len(arr)-1):\n",
    "        min_idx = i\n",
    "        for j in range(i+1, len(arr)):\n",
    "            if arr[j] < arr[min_idx]:\n",
    "                min_idx = j\n",
    "        arr[i], arr[min_idx] = arr[min_idx], arr[i]\n",
    "    return arr"
   ]
  },
  {
   "cell_type": "code",
   "execution_count": 4,
   "metadata": {},
   "outputs": [
    {
     "data": {
      "text/plain": [
       "[1, 1, 2, 3, 4, 5, 7]"
      ]
     },
     "execution_count": 4,
     "metadata": {},
     "output_type": "execute_result"
    }
   ],
   "source": [
    "a = [1,5,7,2,3,4,1]\n",
    "selection_sort(a)"
   ]
  },
  {
   "cell_type": "code",
   "execution_count": 7,
   "metadata": {},
   "outputs": [],
   "source": [
    "# 거품정렬은 겊무으로 나아가서 맨 뒤부터 완성\n",
    "def bubble_sort(arr):\n",
    "    for i in range(len(arr)-1):\n",
    "        for j in range(len(arr)-1-i):\n",
    "            if arr[i+j] > arr[i+j+1]:\n",
    "                arr[i+j], arr[i+j+1] = arr[i+j+1], arr[i+j]\n",
    "    return arr"
   ]
  },
  {
   "cell_type": "code",
   "execution_count": 19,
   "metadata": {},
   "outputs": [
    {
     "data": {
      "text/plain": [
       "[1, 1, 2, 3, 4, 5, 7]"
      ]
     },
     "execution_count": 19,
     "metadata": {},
     "output_type": "execute_result"
    }
   ],
   "source": [
    "bubble_sort(a)"
   ]
  },
  {
   "cell_type": "code",
   "execution_count": 13,
   "metadata": {},
   "outputs": [],
   "source": [
    "def bubble_sort(arr):\n",
    "    swapped = False\n",
    "    for i in range(len(arr)-1, 0, -1):\n",
    "        for j in range(i):\n",
    "            if arr[j] > arr[j+1]:\n",
    "                arr[j], arr[j+1] = arr[j+1], arr[j]\n",
    "                swapped = True\n",
    "        if not swapped:\n",
    "            break\n",
    "    return arr"
   ]
  },
  {
   "cell_type": "code",
   "execution_count": 18,
   "metadata": {},
   "outputs": [],
   "source": [
    "def bubble_sort(arr):\n",
    "    end = len(arr)-1\n",
    "    while end > 0:\n",
    "        last_swap = 0\n",
    "        for j in range(end):\n",
    "            if arr[j] > arr[j+1]:\n",
    "                arr[j], arr[j+1] = arr[j+1], arr[j]\n",
    "                last_swap = j\n",
    "        end = last_swap\n",
    "    return arr"
   ]
  },
  {
   "cell_type": "code",
   "execution_count": 32,
   "metadata": {},
   "outputs": [],
   "source": [
    "def insertion_sort(arr):\n",
    "    for end in range(1, len(arr)):\n",
    "        for i in range(end, 0, -1):\n",
    "            if arr[i-1] > arr[i]:\n",
    "                arr[i-1], arr[i] = arr[i], arr[i-1]\n",
    "        print(arr[:end])\n",
    "    return arr "
   ]
  },
  {
   "cell_type": "code",
   "execution_count": 36,
   "metadata": {},
   "outputs": [],
   "source": [
    "def insertion_sort(arr):\n",
    "    for end in range(1, len(arr)):\n",
    "        i = end\n",
    "        while i > 0 and arr[i-1] > arr[i]:\n",
    "            arr[i-1], arr[i] = arr[i], arr[i-1]\n",
    "            i -= 1\n",
    "    return arr"
   ]
  },
  {
   "cell_type": "code",
   "execution_count": 38,
   "metadata": {},
   "outputs": [],
   "source": [
    "def insertion_sort(arr):\n",
    "    for end in range(1, len(arr)):\n",
    "        to_insert = arr[end]\n",
    "        i = end\n",
    "        while i > 0 and arr[i-1] > to_insert:\n",
    "            arr[i] = arr[i-1]\n",
    "            i -= 1\n",
    "        arr[i] = to_insert\n",
    "    return arr"
   ]
  },
  {
   "cell_type": "code",
   "execution_count": 39,
   "metadata": {},
   "outputs": [
    {
     "data": {
      "text/plain": [
       "[1, 1, 2, 3, 4, 5, 7]"
      ]
     },
     "execution_count": 39,
     "metadata": {},
     "output_type": "execute_result"
    }
   ],
   "source": [
    "a = [1,5,7,2,3,4,1]\n",
    "insertion_sort(a)"
   ]
  },
  {
   "cell_type": "code",
   "execution_count": null,
   "metadata": {},
   "outputs": [],
   "source": [
    "# Definition for singly-linked list.\n",
    "class ListNode:\n",
    "    def __init__(self, val=0, next=None):\n",
    "        self.val = val\n",
    "        self.next = next\n",
    "\n",
    "class Solution:\n",
    "    def reverseList(self, head: ListNode) -> ListNode:\n",
    "        # prev node node.next\n",
    "        # node.next node prev\n",
    "#         prev, node = None, head\n",
    "        \n",
    "#         while node:\n",
    "#             node_next, node.next = node.next, prev\n",
    "#             # 다음 진행\n",
    "#             prev, node = node, node_next\n",
    "#             # tail, None\n",
    "        \n",
    "#         return prev\n",
    "\n",
    "#         def reverse(prev, node):\n",
    "#             if not node:\n",
    "#                 return prev\n",
    "#             node_next, node.next = node.next, prev\n",
    "#             return reverse(node, node_next)\n",
    "\n",
    "#         return reverse(None, head)\n",
    "        '''\n",
    "        prev node node.next\n",
    "        node.next node prev\n",
    "        각각의 노드\n",
    "        # node.next 따로 순차적으로 유지할 수 있게\n",
    "        '''\n",
    "        # prev, cur = None, head\n",
    "        # while cur:\n",
    "        #     cur.next, next_node = prev, cur.next # 여기서 주어진 연결리스트는 방향이 1개\n",
    "        #     cur, prev = next_node, cur\n",
    "        # # none head tail none --> cur: none, prev: tail\n",
    "        # return prev\n",
    "        \n",
    "        def reverse(prev, cur):\n",
    "            if not cur:\n",
    "                return prev\n",
    "            node_next, cur.next = cur.next, prev\n",
    "            cur, prev = node_next, cur\n",
    "            return reverse(prev, cur)\n",
    "    \n",
    "        return reverse(None, head)"
   ]
  },
  {
   "cell_type": "code",
   "execution_count": 40,
   "metadata": {},
   "outputs": [],
   "source": [
    "a = [1,2,3]\n",
    "b = [2,3,4]"
   ]
  },
  {
   "cell_type": "code",
   "execution_count": 41,
   "metadata": {},
   "outputs": [
    {
     "data": {
      "text/plain": [
       "[1, 2, 3, 2, 3, 4]"
      ]
     },
     "execution_count": 41,
     "metadata": {},
     "output_type": "execute_result"
    }
   ],
   "source": [
    "a + b"
   ]
  },
  {
   "cell_type": "code",
   "execution_count": 42,
   "metadata": {},
   "outputs": [
    {
     "data": {
      "text/plain": [
       "1"
      ]
     },
     "execution_count": 42,
     "metadata": {},
     "output_type": "execute_result"
    }
   ],
   "source": [
    "a.index(2)"
   ]
  },
  {
   "cell_type": "code",
   "execution_count": 43,
   "metadata": {},
   "outputs": [
    {
     "data": {
      "text/plain": [
       "[1, 2]"
      ]
     },
     "execution_count": 43,
     "metadata": {},
     "output_type": "execute_result"
    }
   ],
   "source": [
    "del a[2]\n",
    "a"
   ]
  },
  {
   "cell_type": "code",
   "execution_count": 44,
   "metadata": {},
   "outputs": [],
   "source": [
    "b.remove(3)"
   ]
  },
  {
   "cell_type": "code",
   "execution_count": 45,
   "metadata": {},
   "outputs": [
    {
     "data": {
      "text/plain": [
       "[2, 4]"
      ]
     },
     "execution_count": 45,
     "metadata": {},
     "output_type": "execute_result"
    }
   ],
   "source": [
    "b"
   ]
  },
  {
   "cell_type": "code",
   "execution_count": 46,
   "metadata": {},
   "outputs": [
    {
     "data": {
      "text/plain": [
       "0"
      ]
     },
     "execution_count": 46,
     "metadata": {},
     "output_type": "execute_result"
    }
   ],
   "source": [
    "b.count(3)"
   ]
  },
  {
   "cell_type": "code",
   "execution_count": 58,
   "metadata": {},
   "outputs": [
    {
     "data": {
      "text/plain": [
       "0"
      ]
     },
     "execution_count": 58,
     "metadata": {},
     "output_type": "execute_result"
    }
   ],
   "source": [
    "b\n",
    "b.index(2)"
   ]
  },
  {
   "cell_type": "code",
   "execution_count": 51,
   "metadata": {},
   "outputs": [
    {
     "data": {
      "text/plain": [
       "1"
      ]
     },
     "execution_count": 51,
     "metadata": {},
     "output_type": "execute_result"
    }
   ],
   "source": [
    "b"
   ]
  },
  {
   "cell_type": "code",
   "execution_count": null,
   "metadata": {},
   "outputs": [],
   "source": [
    "class ListNode:\n",
    "    def __init__(self, key=None, value=None):\n",
    "        self.key = key\n",
    "        self.value = value\n",
    "        self.next = None\n",
    "        \n",
    "HASHMAP_SIZE = 1000\n",
    "'''\n",
    "해시 함수 값 충돌의 최소화\n",
    "쉽고 빠른 연산\n",
    "해시 테이블 전체에 해시 값이 균일하게 분포\n",
    "사용할 키의 모든 정보를 이용하여 해싱\n",
    "해시 테이블 사용 효율이 높을 것\n",
    "\n",
    "체이닝 \n",
    "오픈 어드레싱 [CPython Dictionary]\n",
    "'''\n",
    "from collections import defaultdict\n",
    "\n",
    "class MyHashMap:\n",
    "    def __init__(self):\n",
    "        self.size = HASHMAP_SIZE\n",
    "        self.table = defaultdict(ListNode)\n",
    "    \n",
    "    # 삽입\n",
    "    def put(self, key: int, value: int) -> None:\n",
    "        index = key % self.size\n",
    "        \n",
    "        # index 값이 비어져 있을 때\n",
    "        if self.table[indx].value is None:\n",
    "            self.table[index] = ListNode(key, value)\n",
    "        \n",
    "        p = self.table[index]\n",
    "        while p:\n",
    "            if p.key == key:\n",
    "                p.value = value\n",
    "                return\n",
    "            if p.next is None:\n",
    "                break\n",
    "            p = p.next\n",
    "        p.next = Listnode(key, value)\n",
    "        \n",
    "    def get(self, key: int) -> int:\n",
    "        index = key % self.size\n",
    "        \n",
    "        if self.table[index].value is None:\n",
    "            return -1\n",
    "        \n",
    "        # 링크드 리스트가 있다면, \n",
    "        p = self.table[index]\n",
    "        while p:\n",
    "            if p.key == key:\n",
    "                return p.value\n",
    "            p = p.next\n",
    "        return -1\n",
    "    \n",
    "    def remove(self, key: int) -> None:\n",
    "        index = key % self.size\n",
    "        \n",
    "        # 비어있는 경우\n",
    "        self.table[index].value is None:\n",
    "            return\n",
    "        \n",
    "        # 링크드 리스트의 첫번째, head\n",
    "        p = self.table[index]\n",
    "        if p.key == key:\n",
    "            self.table[index] = ListNode() if p.next is None else p.next\n",
    "            return\n",
    "        # 중간에 있는 경우\n",
    "        prev = p\n",
    "        while p:\n",
    "            if p.key == key:\n",
    "                prev.next = p.next\n",
    "                return\n",
    "            prev, p = p, p.next"
   ]
  },
  {
   "cell_type": "code",
   "execution_count": null,
   "metadata": {},
   "outputs": [],
   "source": [
    "def candies(n, arr):\n",
    "    dp = [1]*n # 1로 초기화\n",
    "    for i in range(1, n):\n",
    "        if arr[i] > arr[i-1]:\n",
    "            dp[i] = dp[i-1] + 1\n",
    "    for j in range(n-1, 0, -1): # 뒤에서부터 한번 더 검증\n",
    "        if arr[j] < arr[j-1] and dp[j] >= dp[j-1]:\n",
    "            dp[j-1] = dp[j] + 1\n",
    "    return sum(dp)"
   ]
  }
 ],
 "metadata": {
  "kernelspec": {
   "display_name": "Python 3",
   "language": "python",
   "name": "python3"
  },
  "language_info": {
   "codemirror_mode": {
    "name": "ipython",
    "version": 3
   },
   "file_extension": ".py",
   "mimetype": "text/x-python",
   "name": "python",
   "nbconvert_exporter": "python",
   "pygments_lexer": "ipython3",
   "version": "3.8.3"
  }
 },
 "nbformat": 4,
 "nbformat_minor": 4
}
